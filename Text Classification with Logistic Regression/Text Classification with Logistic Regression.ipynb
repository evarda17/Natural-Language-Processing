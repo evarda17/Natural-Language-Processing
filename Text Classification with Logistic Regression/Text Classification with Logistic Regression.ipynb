{
 "cells": [
  {
   "cell_type": "markdown",
   "metadata": {},
   "source": [
    "# HW5.1 text classification with logistic regression. \n",
    "\n",
    "We will use the same dataset Triage as last time. Here is what's in this assignment: \n",
    "\n",
    "1. we will explore several options of how to convert text to vectors to be fed into a logistic regression classifier using sklearn. \n",
    "2. we will implement and train a logistic regression classifier using Python (no sklearn!).\n",
    "3. we will compare the text classification result with those you got from the NB last week. \n",
    "\n",
    "## PART I: text input representation: converting text to vectors\n",
    "\n",
    "There are many ways to convert text to vectors. Let's try two ways in this assignment. \n",
    "\n",
    "1. Count vectors \n",
    "\n",
    "Read the documentation for sklearn ```CountVectorizer``` here: https://scikit-learn.org/stable/modules/generated/sklearn.feature_extraction.text.CountVectorizer.html#sklearn.feature_extraction.text.CountVectorizer.fit_transform \n",
    "\n",
    "2. Normalized counts - tfidf\n",
    "\n",
    "Read the documentation for sklearn ```tfidfVectorizer``` here: https://scikit-learn.org/stable/modules/generated/sklearn.feature_extraction.text.TfidfVectorizer.html#sklearn.feature_extraction.text.TfidfVectorizer\n",
    "\n",
    "Make sure you understood the code examples for those two vectorizers. \n",
    "\n"
   ]
  },
  {
   "cell_type": "code",
   "execution_count": 1,
   "metadata": {},
   "outputs": [],
   "source": [
    "#loading all the necessary packages\n",
    "\n",
    "from sklearn.feature_extraction.text import TfidfVectorizer\n",
    "from util import load_data, Dataset, Example\n",
    "from sklearn.feature_extraction.text import CountVectorizer\n",
    "import numpy as np\n",
    "import matplotlib.pyplot as plt\n",
    "from tqdm import tqdm\n",
    "from matplotlib import pyplot as plt\n",
    "import numpy as np\n",
    "\n",
    "from sklearn import preprocessing \n"
   ]
  },
  {
   "cell_type": "markdown",
   "metadata": {},
   "source": [
    "### logistic regression with unigram count vectors\n"
   ]
  },
  {
   "cell_type": "code",
   "execution_count": 2,
   "metadata": {},
   "outputs": [],
   "source": [
    "dataset = load_data(\"./data/triage\")\n",
    "\n",
    "corpus = ['this is the first document',\n",
    "          'this document is the second document',\n",
    "          'and this is the third one',\n",
    "          'is this the first document',\n",
    "          'how about these documents']\n",
    "\n",
    "vectorizer = CountVectorizer()\n",
    "X = vectorizer.fit_transform(corpus)\n"
   ]
  },
  {
   "cell_type": "markdown",
   "metadata": {},
   "source": [
    "#### you turn: read the Triage dataset using the same loader from last time, and convert your text documents into a count vector. "
   ]
  },
  {
   "cell_type": "code",
   "execution_count": 3,
   "metadata": {},
   "outputs": [],
   "source": [
    "def get_data(split: list[Example]) -> (list[str], list[int]):\n",
    "    \"\"\"\n",
    "    Massage the data into a format consistent with the input type required by CountVectorizer or TfidfVectorizer. \n",
    "\n",
    "    Args:\n",
    "        split: pass in the split, which should be either dataset.train or dataset.dev\n",
    "\n",
    "    Returns: \n",
    "        text: list of sentences\n",
    "        labels: list of labels  \n",
    "    \"\"\"\n",
    "    # Extract texts and labels from the Example objects\n",
    "    texts = [\" \".join(example.words) for example in split]  \n",
    "    labels = [example.label for example in split]\n",
    "\n",
    "    return texts, labels\n"
   ]
  },
  {
   "cell_type": "code",
   "execution_count": 4,
   "metadata": {},
   "outputs": [],
   "source": [
    "train_text, train_label = get_data(dataset.train)\n",
    "dev_text, dev_label = get_data(dataset.dev)"
   ]
  },
  {
   "cell_type": "markdown",
   "metadata": {},
   "source": [
    "#### load the data using get_data() and then convert them into count vector\n",
    "```\n",
    "train_text, train_label = get_data(dataset.train)\n",
    "dev_text, dev_label = get_data(dataset.dev)\n",
    "```\n",
    "\n",
    "#### IMPORTANT note: \n",
    "You need to transform both train and dev data into a vector before feeding them into a classifier. But ```fit_transform()``` is a composition of two functions: fit and transform. \n",
    "You should use ```fit_transform()``` to fit the vector to your train text and transform it to the vector,\n",
    "but when you deal with the dev text, you don't need to fit the Vectorizer any more, you just need to use the \n",
    "Vectorizer you fit on the train data, and simply ```transform()``` it. Don't use ```fit_transform()``` on both data splits. \n",
    "To confirm that you are using the same Vectorizer for both train data and test data, you should get the feature names out\n",
    "and see that they have the same length. \n",
    "e.g., : \n",
    "\n",
    "```\n",
    "names=vectorizer.get_feature_names_out()\n",
    "print(len(names))\n",
    "```\n",
    "\n",
    "Because the train and dev split have different vocabulary sizes, if you ```fit_transform``` on each of them you will end up with vectors of different lengths. Since your classifier is trained with the input vector length from train, it should not take input with a different vector length on the dev data. "
   ]
  },
  {
   "cell_type": "markdown",
   "metadata": {},
   "source": [
    "## Part I: logistic regression with bigram count vectors\n",
    "\n",
    "When using the CountVectorizer, you can also use bigram or Ngram counts. If you read the documentation for  ```CountVectorizer``` above, you will find the argument called ```ngram_range```. Try to use both unigrams and bigrams for this task. "
   ]
  },
  {
   "cell_type": "markdown",
   "metadata": {},
   "source": [
    "### Part I: Unigram Vectorizer \n"
   ]
  },
  {
   "cell_type": "code",
   "execution_count": 5,
   "metadata": {},
   "outputs": [],
   "source": [
    "# Initialize vectorizer with unigram and bigram setting\n",
    "vectorizer_uni = CountVectorizer(ngram_range=(1, 1))\n",
    "\n",
    "# Fit and transform the training data\n",
    "train_vector_uni = vectorizer_uni.fit_transform(train_text)\n",
    "\n",
    "# Only transform the development data using the same vectorizer\n",
    "dev_vector_uni = vectorizer.transform(dev_text)\n",
    "\n",
    "# Confirm the length of the vocabulary to ensure we used the same one for both train and dev data\n",
    "names = vectorizer_uni.get_feature_names_out()\n",
    "# print(len(names))\n"
   ]
  },
  {
   "cell_type": "markdown",
   "metadata": {},
   "source": [
    "### Part I: Bigram Vectorizer "
   ]
  },
  {
   "cell_type": "code",
   "execution_count": 6,
   "metadata": {},
   "outputs": [],
   "source": [
    "\n",
    "# Initialize vectorizer with unigram and bigram setting\n",
    "vectorizer_bi = CountVectorizer(ngram_range=(1, 2))\n",
    "\n",
    "# Fit and transform the training data\n",
    "train_vector_bi = vectorizer_bi.fit_transform(train_text)\n",
    "\n",
    "# Only transform the development data using the same vectorizer\n",
    "dev_vector_bi = vectorizer.transform(dev_text)\n",
    "\n",
    "# train_vector_bi = train_vector_bi.toarray()\n",
    "# dev_vector_bi = dev_vector_bi.toarray()\n",
    "\n",
    "# Confirm usage of the same vocab for train and test (dev) data\n",
    "names = vectorizer_bi.get_feature_names_out()\n",
    "# print(len(names))\n"
   ]
  },
  {
   "cell_type": "markdown",
   "metadata": {},
   "source": [
    "### Part I: logistic regression with tfidf vectors"
   ]
  },
  {
   "cell_type": "code",
   "execution_count": 7,
   "metadata": {},
   "outputs": [],
   "source": [
    "# Refer to the tfidfVectorizer linked above to transform the text into tfidf vectors\n",
    "\n",
    "# Initialize the TF-IDF vectorizer with unigram and bigram setting\n",
    "tfidf_vectorizer = TfidfVectorizer()\n",
    "\n",
    "# Fit and transform the training data\n",
    "train_tfidf_vector = tfidf_vectorizer.fit_transform(train_text)\n",
    "\n",
    "# Only transform the development data using the same vectorizer\n",
    "dev_tfidf_vector = tfidf_vectorizer.transform(dev_text)\n",
    "\n"
   ]
  },
  {
   "cell_type": "markdown",
   "metadata": {},
   "source": [
    "### Part I: Feature exploration"
   ]
  },
  {
   "cell_type": "code",
   "execution_count": 8,
   "metadata": {},
   "outputs": [
    {
     "name": "stdout",
     "output_type": "stream",
     "text": [
      "Length of the vector: 31211\n",
      "\n",
      "First 10 features:\n",
      "['00' '000' '0000' '000ha' '000l' '000lt' '000m2' '000rmb' '004' '00h58']\n",
      "\n",
      "Features from the middle:\n",
      "['khatami' 'khatir' 'khatlon' 'khattak' 'khatun' 'khaw' 'khdara' 'kheda'\n",
      " 'khel' 'khiar']\n",
      "\n",
      "Last 10 features:\n",
      "['état' 'été' 'ötanos' 'üan' 'üaram' 'üei' 'ühurricane' 'ülol' 'üthe'\n",
      " 'üthis']\n"
     ]
    }
   ],
   "source": [
    "# Get the feature names\n",
    "feature_names = tfidf_vectorizer.get_feature_names_out()\n",
    "\n",
    "# Print the length of the vector (number of features)\n",
    "print(f\"Length of the vector: {len(feature_names)}\")\n",
    "\n",
    "# Printing the first 10 features\n",
    "print(\"\\nFirst 10 features:\")\n",
    "print(feature_names[:10])\n",
    "#printing the middle 10 features \n",
    "print(\"\\nFeatures from the middle:\")\n",
    "print(feature_names[len(feature_names) // 2 : len(feature_names) // 2 + 10])\n",
    "#printing the last 10 features\n",
    "print(\"\\nLast 10 features:\")\n",
    "print(feature_names[-10:])"
   ]
  },
  {
   "cell_type": "markdown",
   "metadata": {},
   "source": [
    "# PART II: Logistic regression from scratch\n",
    "\n",
    "We have seen in class there are four components in a standard linear classifier: features (input), forward pass (function to compute p(Y|X)), a loss function (to measure the errors the system makes), and the optimizer/iterative learning process to adjust the weights to minimize the errors. We've already taken care of the input features above. Let's now implement the rest of the components. Let's use the tfidf vectors for this implemetation.\n",
    "\n",
    "Recipe: \n",
    "```\n",
    "   1. Initialize the parameters\n",
    "Repeat {\n",
    "   2. Make a prediction y_hat\n",
    "   3. Calculate loss function\n",
    "   4. Get gradient for loss function\n",
    "   5. Update parameters W, b\n",
    " }\n",
    "```"
   ]
  },
  {
   "cell_type": "code",
   "execution_count": 9,
   "metadata": {},
   "outputs": [
    {
     "name": "stderr",
     "output_type": "stream",
     "text": [
      "100%|████████████████████████████████████| 10000/10000 [00:13<00:00, 750.25it/s]\n"
     ]
    }
   ],
   "source": [
    "Xtrain, Xtest = train_tfidf_vector, dev_tfidf_vector\n",
    "Ytrain = np.array(train_label)\n",
    "Ytest = np.array(dev_label)\n",
    "\n",
    "# randomly initialize weights\n",
    "D = Xtrain.shape[1]\n",
    "W = np.random.randn(D)\n",
    "b = 0 # bias term\n",
    "\n",
    "# make predictions\n",
    "def sigmoid(z):\n",
    "    \"\"\"\n",
    "    sigmoid function\n",
    "    \n",
    "    args\n",
    "        z: the result of linear computation, z = X.dot(W) + b\n",
    "    \"\"\"\n",
    "    \n",
    "    return 1 / (1 + np.exp(-z))\n",
    "    \n",
    "\n",
    "def forward(X, W, b):\n",
    "    \"\"\"\n",
    "    forward pass, return the result of passing X.dot(W)+b through sigmoid function\n",
    "\n",
    "    args\n",
    "        X: input features\n",
    "        W: weights\n",
    "        b: biases\n",
    "    \"\"\"\n",
    "    return sigmoid(X.dot(W) + b)\n",
    "\n",
    "\n",
    "\n",
    "# calculating the accuracy\n",
    "def classification_rate(Y, Y_HAT):\n",
    "    return np.mean(Y == Y_HAT)\n",
    "\n",
    "# return cross entropy\n",
    "def cross_entropy(T, pY):\n",
    "    return -np.mean(T*np.log(pY) + (1 - T)*np.log(1 - pY))\n",
    "\n",
    "# train loop\n",
    "\n",
    "# storing the loss values during the training (used later for visualization)\n",
    "train_loss = [] \n",
    "test_loss = []\n",
    "\n",
    "learning_rate = 0.001\n",
    "num_iter = 10000 # iterate this many times to update the weights\n",
    "\n",
    "for i in tqdm(range(num_iter)):\n",
    "    \n",
    "    # Forward pass for train data\n",
    "    p_Ytrain = forward(Xtrain, W, b)\n",
    "    \n",
    "    # Forward pass for test data\n",
    "    p_Ytest = forward(Xtest, W, b)\n",
    "    \n",
    "    # Compute cross-entropy loss for both train and test data\n",
    "    train_loss.append(cross_entropy(Ytrain, p_Ytrain))\n",
    "    test_loss.append(cross_entropy(Ytest, p_Ytest))\n",
    "    \n",
    "    # Compute gradients for weight and bias updates\n",
    "    dw = Xtrain.T.dot(p_Ytrain-Ytrain)\n",
    "    db = np.sum(p_Ytrain - Ytrain)\n",
    "    \n",
    "    # Update weights and biases\n",
    "    W -= learning_rate * dw\n",
    "    b -= learning_rate * db\n"
   ]
  },
  {
   "cell_type": "code",
   "execution_count": 10,
   "metadata": {},
   "outputs": [
    {
     "name": "stdout",
     "output_type": "stream",
     "text": [
      "Final train classification_rate: 0.9354271595552599\n",
      "Final test classification_rate: 0.757870190439176\n"
     ]
    },
    {
     "data": {
      "image/png": "[encoded data removed]",
      "text/plain": [
       "<Figure size 640x480 with 1 Axes>"
      ]
     },
     "metadata": {},
     "output_type": "display_data"
    }
   ],
   "source": [
    "# evaluate your model after it is trained. What is the accuracy? \n",
    "print(\"Final train classification_rate:\", classification_rate(Ytrain, np.round(p_Ytrain)))\n",
    "print(\"Final test classification_rate:\", classification_rate(Ytest, np.round(p_Ytest)))\n",
    "# import matplotlib as plt \n",
    "\n",
    "# finally plot the trajectory of the training curve \n",
    "legend1, = plt.plot(train_loss, label='train loss')\n",
    "legend2, = plt.plot(test_loss, label='test loss')\n",
    "plt.legend([\"train\", \"test\"])\n",
    "plt.show()"
   ]
  },
  {
   "cell_type": "markdown",
   "metadata": {},
   "source": [
    "# PART III: compare different vectors\n",
    "\n",
    "Now substitute the tfidf vectors with the unigram, and unigram+bigram count vectors. Train the model again. How is the accuracy this time?"
   ]
  },
  {
   "cell_type": "markdown",
   "metadata": {},
   "source": [
    "### Part III: Unigram Normalizing and model training "
   ]
  },
  {
   "cell_type": "code",
   "execution_count": 11,
   "metadata": {},
   "outputs": [
    {
     "name": "stderr",
     "output_type": "stream",
     "text": [
      "100%|████████████████████████████████████| 10000/10000 [00:14<00:00, 686.75it/s]\n"
     ]
    },
    {
     "name": "stdout",
     "output_type": "stream",
     "text": [
      "Final train classification rate for unigram: 0.8003896227311603\n",
      "Final test classification_rate for unigram: 0.7407695297318305\n"
     ]
    },
    {
     "data": {
      "image/png": "[encoded data removed]",
      "text/plain": [
       "<Figure size 640x480 with 1 Axes>"
      ]
     },
     "metadata": {},
     "output_type": "display_data"
    }
   ],
   "source": [
    "#need to normalize train and test \n",
    "\n",
    "# Create a unigram vectorizer\n",
    "vectorizer = CountVectorizer(ngram_range=(1, 1))\n",
    "\n",
    "# Fit and transform the training data\n",
    "train_vector_uni = vectorizer.fit_transform(train_text)\n",
    "\n",
    "# Transform the test data using the same vectorizer\n",
    "dev_vector_uni = vectorizer.transform(dev_text)\n",
    "\n",
    "\n",
    "Xtrain = train_vector_uni\n",
    "Xtest = dev_vector_uni\n",
    "\n",
    "Ytrain = np.array(train_label)\n",
    "Ytest = np.array(dev_label)\n",
    "\n",
    "Xtrain  = preprocessing.normalize(Xtrain)   #preprocessing  the train for the unigram \n",
    "Xtest = preprocessing.normalize(Xtest)   #preprocessing the test for the unigram\n",
    "\n",
    "\n",
    "# randomly initialize weights\n",
    "D = Xtrain.shape[1]\n",
    "W = np.random.randn(D)\n",
    "b = 0 # bias term\n",
    "\n",
    "# use these lists to store the loss values during the training, so you can visualize them later in a curve\n",
    "train_loss = [] \n",
    "test_loss = []\n",
    "\n",
    "learning_rate = 0.001\n",
    "num_iter = 10000 # iterate this many times to update the weights\n",
    "\n",
    "\n",
    "for i in tqdm(range(num_iter)):\n",
    "    # Forward pass for train data\n",
    "    p_Ytrain = forward(Xtrain, W, b)\n",
    "    # Forward pass for test data\n",
    "    p_Ytest = forward(Xtest, W, b)\n",
    "    \n",
    "    # Compute cross-entropy loss for both train and test data\n",
    "    train_loss.append(cross_entropy(Ytrain, p_Ytrain))\n",
    "    test_loss.append(cross_entropy(Ytest, p_Ytest))\n",
    "\n",
    "    dw = Xtrain.T.dot(p_Ytrain-Ytrain)\n",
    "    db = np.sum(p_Ytrain - Ytrain)\n",
    "    # Update weights and biases\n",
    "    W -= learning_rate * dw\n",
    "    b -= learning_rate * db\n",
    "    \n",
    "#plotting the results of the unigram\n",
    "\n",
    "# evaluate your model after it is trained. What is the accuracy? \n",
    "print(\"Final train classification rate for unigram:\", classification_rate(Ytrain, np.round(p_Ytrain)))\n",
    "print(\"Final test classification_rate for unigram:\", classification_rate(Ytest, np.round(p_Ytest)))\n",
    "\n",
    "# finally plot the trajectory of the training curve \n",
    "legend1, = plt.plot(train_loss, label='train loss')\n",
    "legend2, = plt.plot(test_loss, label='test loss')\n",
    "plt.legend([\"train\", \"test\"])\n",
    "plt.show()"
   ]
  },
  {
   "cell_type": "markdown",
   "metadata": {},
   "source": [
    "### Part III: Bigram Normalizing and model training\n"
   ]
  },
  {
   "cell_type": "code",
   "execution_count": 12,
   "metadata": {},
   "outputs": [
    {
     "name": "stderr",
     "output_type": "stream",
     "text": [
      "100%|████████████████████████████████████| 10000/10000 [00:29<00:00, 334.29it/s]\n"
     ]
    },
    {
     "name": "stdout",
     "output_type": "stream",
     "text": [
      "Final train classification_rate for bigram: 0.9791884443599734\n",
      "Final test classification_rate for bigram: 0.7629226583754373\n"
     ]
    },
    {
     "data": {
      "image/png": "[encoded data removed]",
      "text/plain": [
       "<Figure size 640x480 with 1 Axes>"
      ]
     },
     "metadata": {},
     "output_type": "display_data"
    }
   ],
   "source": [
    "#classifying for bigram \n",
    "\n",
    "# Create a unigram vectorizer\n",
    "vectorizer_two = CountVectorizer(ngram_range=(1, 2))\n",
    "\n",
    "# Fit and transform the training data\n",
    "train_vector_two = vectorizer_two.fit_transform(train_text)\n",
    "\n",
    "# Transform the test data using the same vectorizer\n",
    "dev_vector_two = vectorizer_two.transform(dev_text)\n",
    "\n",
    "\n",
    "Xtrain = train_vector_two\n",
    "Xtest = dev_vector_two\n",
    "\n",
    "Ytrain = np.array(train_label)\n",
    "Ytest = np.array(dev_label)\n",
    "\n",
    "Xtrain  = preprocessing.normalize(Xtrain)   #preprocessing  the train for the unigram \n",
    "Xtest = preprocessing.normalize(Xtest)   #preprocessing the test for the unigram\n",
    "\n",
    "\n",
    "# randomly initialize weights\n",
    "D = Xtrain.shape[1]\n",
    "W = np.random.randn(D)\n",
    "b = 0 # bias term\n",
    "\n",
    "# use these lists to store the loss values during the training, so you can visualize them later in a curve\n",
    "train_loss = [] \n",
    "test_loss = []\n",
    "\n",
    "learning_rate = 0.001\n",
    "num_iter = 10000 # iterate this many times to update the weights\n",
    "\n",
    "\n",
    "for i in tqdm(range(num_iter)):\n",
    "    # Forward pass for train data\n",
    "    p_Ytrain = forward(Xtrain, W, b)\n",
    "    # Forward pass for test data\n",
    "    p_Ytest = forward(Xtest, W, b)\n",
    "    \n",
    "    # Compute cross-entropy loss for both train and test data\n",
    "    train_loss.append(cross_entropy(Ytrain, p_Ytrain))\n",
    "    test_loss.append(cross_entropy(Ytest, p_Ytest))\n",
    "\n",
    "    dw = Xtrain.T.dot(p_Ytrain-Ytrain)\n",
    "    db = np.sum(p_Ytrain - Ytrain)\n",
    "    # Update weights and biases\n",
    "    W -= learning_rate * dw\n",
    "    b -= learning_rate * db\n",
    "# evaluate your model after it is trained. What is the accuracy? \n",
    "print(\"Final train classification_rate for bigram:\", classification_rate(Ytrain, np.round(p_Ytrain)))\n",
    "print(\"Final test classification_rate for bigram:\", classification_rate(Ytest, np.round(p_Ytest)))\n",
    "# import matplotlib as plt \n",
    "\n",
    "from matplotlib import pyplot as plt\n",
    "import numpy as np\n",
    "\n",
    "\n",
    "# finally plot the trajectory of the training curve \n",
    "legend1, = plt.plot(train_loss, label='train loss')\n",
    "legend2, = plt.plot(test_loss, label='test loss')\n",
    "plt.legend([\"train\", \"test\"])\n",
    "plt.show()"
   ]
  },
  {
   "cell_type": "markdown",
   "metadata": {},
   "source": [
    "# wrapping up\n",
    "\n",
    "##### You should see your training curve on your train data and dev data above. What do you observe? \n",
    "\n",
    "##### How does your final train and dev accuracy compare to using NaiveBayes model from last week?"
   ]
  },
  {
   "cell_type": "markdown",
   "metadata": {},
   "source": [
    "Compared to the NaiveBayes Model from last week, it seems that our models here (bigram and tfidf in particular) are overfitting, as the train accuracy, compared to test accuracy, is very high. Although, in all three cases, we observe relatively high test accuracy as well.\n",
    "\n",
    "Among all three cases, we notice that as we increase the number of epochs, the loss decreases both in test and train. We do observe a lower train loss, which is expected, as we trained the model directly on the train data. The gap between the blue (train) and orange (test) lines may indicate the overfitting we observe in some cases. As we noted above, our model did exceptionally well in the case of the bigram and tfidf train models, achieving an accuracy close to 97% and 93% respectively.\n",
    "\n",
    "Overall, our models seem to perform well, given our high test accuracy rates."
   ]
  }
 ],
 "metadata": {
  "kernelspec": {
   "display_name": "Python 3 (ipykernel)",
   "language": "python",
   "name": "python3"
  },
  "language_info": {
   "codemirror_mode": {
    "name": "ipython",
    "version": 3
   },
   "file_extension": ".py",
   "mimetype": "text/x-python",
   "name": "python",
   "nbconvert_exporter": "python",
   "pygments_lexer": "ipython3",
   "version": "3.11.0"
  }
 },
 "nbformat": 4,
 "nbformat_minor": 2
}
